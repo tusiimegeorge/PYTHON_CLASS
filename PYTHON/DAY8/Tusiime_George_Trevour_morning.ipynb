{
 "cells": [
  {
   "cell_type": "code",
   "execution_count": null,
   "metadata": {},
   "outputs": [],
   "source": [
    "import pandas as pd\n",
    "\n",
    "df = pd.read_csv('bse_dataset4.csv')\n",
    "dframe = pd.DataFrame(df)\n",
    "print(dframe)"
   ]
  },
  {
   "cell_type": "code",
   "execution_count": null,
   "metadata": {},
   "outputs": [],
   "source": [
    "dframe.shape"
   ]
  },
  {
   "cell_type": "code",
   "execution_count": null,
   "metadata": {},
   "outputs": [],
   "source": [
    "dframe.columns"
   ]
  },
  {
   "cell_type": "code",
   "execution_count": null,
   "metadata": {},
   "outputs": [],
   "source": [
    "dframe_new = dframe.dropna()\n",
    "dframe_new"
   ]
  },
  {
   "cell_type": "code",
   "execution_count": null,
   "metadata": {},
   "outputs": [],
   "source": [
    "# To fill in values in the empty cells\n",
    "# We use the fillna method\n",
    "\n",
    "dframe2 = dframe.fillna(value=100)\n",
    "dframe2"
   ]
  },
  {
   "cell_type": "code",
   "execution_count": null,
   "metadata": {},
   "outputs": [],
   "source": [
    "dframe['Calories'].fillna(100, inplace=True)\n",
    "dframe\n"
   ]
  },
  {
   "cell_type": "code",
   "execution_count": null,
   "metadata": {},
   "outputs": [],
   "source": [
    "# Replace using Mean, Median and Mode\n",
    "# Calculate Mean\n",
    "data_mean = dframe['Age'].mean()\n",
    "data_mean"
   ]
  },
  {
   "cell_type": "code",
   "execution_count": null,
   "metadata": {},
   "outputs": [],
   "source": [
    "# Display all rows\n",
    "pd.set_option('display.max_rows', None)"
   ]
  },
  {
   "cell_type": "code",
   "execution_count": null,
   "metadata": {},
   "outputs": [],
   "source": [
    "\n",
    "# Core of Data preparation and Preprocessing; Empty cells, Wrong formats, Wrong data, Duplicate\n",
    "# Calculate Median\n",
    "\n",
    "data_median = dframe[\"Calories\"].median()\n",
    "data_median "
   ]
  },
  {
   "cell_type": "code",
   "execution_count": null,
   "metadata": {},
   "outputs": [],
   "source": [
    "# Calculate Mode on Age\n",
    "data_mode = dframe['Age'].mode()\n",
    "data_mode"
   ]
  },
  {
   "cell_type": "code",
   "execution_count": null,
   "metadata": {},
   "outputs": [],
   "source": [
    "# Wrong Formats Row that is hard to analyze(NaN)\n",
    "# NaN Row 5 contained NaN values, and we filled them\n",
    "dframe['Timestamp'].fillna(\"04/07/2023 09:45:12\", inplace=True)\n",
    "dframe"
   ]
  },
  {
   "cell_type": "code",
   "execution_count": null,
   "metadata": {},
   "outputs": [],
   "source": [
    "# Wrong data 23, 2300 typo\n",
    "# Row 23, 37 contained typo in data 23, 2300 typo, We changed from data 2300 to data 23\n",
    "# Wrong data 2199, 21.99\n",
    "\n",
    "for x in dframe.index:\n",
    "    if dframe.loc[x, 'gender'] == \"Marabou stock\":\n",
    "        dframe.drop(x, inplace=True)\n",
    "    \n",
    "dframe"
   ]
  },
  {
   "cell_type": "code",
   "execution_count": null,
   "metadata": {},
   "outputs": [],
   "source": [
    "# Duplicates\n",
    "print(dframe.duplicated())"
   ]
  },
  {
   "cell_type": "code",
   "execution_count": null,
   "metadata": {},
   "outputs": [],
   "source": [
    "dframe.drop_duplicates(inplace=True)\n",
    "print(dframe)"
   ]
  },
  {
   "cell_type": "code",
   "execution_count": null,
   "metadata": {},
   "outputs": [],
   "source": [
    "# Data Visualisation, Plotting, matplotlib library(Heatmap, Piechart, Barplot, Lineplot,(Dotted, Dashed)\n",
    "# Scatterplot library\n",
    "import matplotlib.pyplot as pl\n",
    "dframe['Age'].plot(kind= 'bar')"
   ]
  }
 ],
 "metadata": {
  "kernelspec": {
   "display_name": "Python 3",
   "language": "python",
   "name": "python3"
  },
  "language_info": {
   "codemirror_mode": {
    "name": "ipython",
    "version": 3
   },
   "file_extension": ".py",
   "mimetype": "text/x-python",
   "name": "python",
   "nbconvert_exporter": "python",
   "pygments_lexer": "ipython3",
   "version": "3.11.2"
  },
  "orig_nbformat": 4
 },
 "nbformat": 4,
 "nbformat_minor": 2
}
